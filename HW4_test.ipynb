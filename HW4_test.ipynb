{
 "cells": [
  {
   "cell_type": "code",
   "execution_count": 1,
   "id": "4846ddca",
   "metadata": {},
   "outputs": [],
   "source": [
    "import numpy as np\n",
    "import heapq\n",
    "from typing import Union\n",
    "from mst import graph"
   ]
  },
  {
   "cell_type": "code",
   "execution_count": 29,
   "id": "57152e3c",
   "metadata": {
    "scrolled": true
   },
   "outputs": [],
   "source": [
    "#g = graph.Graph(adjacency_mat = \"data/slingshot_example.txt\", delim = ' ')\n",
    "#g = graph.Graph(adjacency_mat = \"test/one_node_mat.csv\")\n",
    "g = graph.Graph(adjacency_mat = \"data/small.csv\")"
   ]
  },
  {
   "cell_type": "code",
   "execution_count": 30,
   "id": "92491b53",
   "metadata": {},
   "outputs": [
    {
     "data": {
      "text/plain": [
       "array([[0., 5., 0., 5.],\n",
       "       [5., 0., 1., 2.],\n",
       "       [0., 1., 0., 4.],\n",
       "       [5., 2., 4., 0.]])"
      ]
     },
     "execution_count": 30,
     "metadata": {},
     "output_type": "execute_result"
    }
   ],
   "source": [
    "g.adj_mat\n",
    "# 0 = nodes don't have connections with each other\n",
    "# Otherwise, it's weighted. Assuming an undirected graph, with a symmetrical matrix"
   ]
  },
  {
   "cell_type": "code",
   "execution_count": 31,
   "id": "edce51ad",
   "metadata": {},
   "outputs": [
    {
     "data": {
      "text/plain": [
       "4"
      ]
     },
     "execution_count": 31,
     "metadata": {},
     "output_type": "execute_result"
    }
   ],
   "source": [
    "num_nodes = np.sqrt(g.adj_mat.size)\n",
    "int(num_nodes)"
   ]
  },
  {
   "cell_type": "code",
   "execution_count": 32,
   "id": "21f8a162",
   "metadata": {},
   "outputs": [
    {
     "data": {
      "text/plain": [
       "(4, 4)"
      ]
     },
     "execution_count": 32,
     "metadata": {},
     "output_type": "execute_result"
    }
   ],
   "source": [
    "g.adj_mat.shape"
   ]
  },
  {
   "cell_type": "code",
   "execution_count": 33,
   "id": "6b089a84",
   "metadata": {},
   "outputs": [],
   "source": [
    "# Get the number of nodes in the adjacency matrix\n",
    "num_nodes = int(np.sqrt(g.adj_mat.size))\n",
    "mst = np.zeros((num_nodes, num_nodes))\n",
    "# Keep track of visited nodes to make sure they are included in MST\n",
    "nodes_in_MST = [False for i in range(0, num_nodes)]\n",
    "# Create a heap that will store the edge weights\n",
    "edge_heap = []\n",
    "# Define a starting node, zero for now. Probably sub-optimal IRL and set first node to true\n",
    "u = 0\n",
    "nodes_in_MST[u] = True\n",
    "\n",
    "# For the first node, get the weights \n",
    "for v in range(0, num_nodes):\n",
    "    # If the edge weight is 0, do nothing with the node, it's not connected\n",
    "    current_edge_weight = g.adj_mat[u][v]\n",
    "    if current_edge_weight == 0:\n",
    "        continue\n",
    "    else:\n",
    "        # Store the edge weight first and the destination node\n",
    "        heapq.heappush(edge_heap, (current_edge_weight, u, v))\n",
    "\n",
    "# Now that we've got things started, if there are unvisited nodes, contine to run\n",
    "while not all(nodes_in_MST): \n",
    "    # If the heap is empty, then we're out of options\n",
    "    # This switch is triggered only if the prior condition that not all nodes have been visited is true\n",
    "    if len(edge_heap) == 0:\n",
    "        raise ValueError(\"Nodes do not all connect, MST does not exist\")\n",
    "\n",
    "    # Otherwise take the smallest value edge with heappop\n",
    "    next_edge = heapq.heappop(edge_heap)\n",
    "    # Get the position of the next node\n",
    "    current_node = next_edge[1]\n",
    "    next_node = next_edge[2] # This is the destination node\n",
    "    # Check to see if the node has already been visited\n",
    "\n",
    "    if nodes_in_MST[next_node] == False:\n",
    "        # Add the node to the MST\n",
    "        nodes_in_MST[next_node] = True\n",
    "        # Add the connection to the MST matrix \n",
    "        mst[current_node][next_node] = next_edge[0]\n",
    "        mst[next_node][current_node] = next_edge[0]\n",
    "\n",
    "        # Run it all again!\n",
    "        for w in range(0, num_nodes):\n",
    "            # if the edge weight is 0, do nothing with the node, it's not connected\n",
    "            current_edge_weight = g.adj_mat[next_node][w]\n",
    "            if current_edge_weight == 0:\n",
    "                continue\n",
    "            else:\n",
    "                heapq.heappush(edge_heap, (current_edge_weight, next_node, w))"
   ]
  },
  {
   "cell_type": "code",
   "execution_count": 34,
   "id": "7a86ceac",
   "metadata": {},
   "outputs": [
    {
     "data": {
      "text/plain": [
       "array([[0., 5., 0., 0.],\n",
       "       [5., 0., 1., 2.],\n",
       "       [0., 1., 0., 0.],\n",
       "       [0., 2., 0., 0.]])"
      ]
     },
     "execution_count": 34,
     "metadata": {},
     "output_type": "execute_result"
    }
   ],
   "source": [
    "mst"
   ]
  },
  {
   "cell_type": "code",
   "execution_count": 37,
   "id": "0dc68362",
   "metadata": {},
   "outputs": [
    {
     "data": {
      "text/plain": [
       "array([[0., 5., 0., 0.],\n",
       "       [0., 0., 1., 2.],\n",
       "       [0., 0., 0., 0.],\n",
       "       [0., 0., 0., 0.]])"
      ]
     },
     "execution_count": 37,
     "metadata": {},
     "output_type": "execute_result"
    }
   ],
   "source": [
    "mst_triu = np.triu(mst)\n",
    "mst_triu"
   ]
  },
  {
   "cell_type": "code",
   "execution_count": 39,
   "id": "e8fdcb1a",
   "metadata": {},
   "outputs": [
    {
     "data": {
      "text/plain": [
       "3"
      ]
     },
     "execution_count": 39,
     "metadata": {},
     "output_type": "execute_result"
    }
   ],
   "source": [
    "np.count_nonzero(mst_triu)"
   ]
  },
  {
   "cell_type": "code",
   "execution_count": null,
   "id": "a3ba12c5",
   "metadata": {},
   "outputs": [],
   "source": []
  }
 ],
 "metadata": {
  "kernelspec": {
   "display_name": "Python 3 (ipykernel)",
   "language": "python",
   "name": "python3"
  },
  "language_info": {
   "codemirror_mode": {
    "name": "ipython",
    "version": 3
   },
   "file_extension": ".py",
   "mimetype": "text/x-python",
   "name": "python",
   "nbconvert_exporter": "python",
   "pygments_lexer": "ipython3",
   "version": "3.9.15"
  }
 },
 "nbformat": 4,
 "nbformat_minor": 5
}
