{
 "cells": [
  {
   "cell_type": "code",
   "execution_count": 1,
   "id": "e88f8ba1",
   "metadata": {},
   "outputs": [],
   "source": [
    "import numpy as np\n",
    "import heapq\n",
    "from typing import Union\n",
    "from mst import graph"
   ]
  },
  {
   "cell_type": "code",
   "execution_count": 14,
   "id": "faae5f3f",
   "metadata": {
    "scrolled": true
   },
   "outputs": [],
   "source": [
    "#g = graph.Graph(adjacency_mat = \"data/slingshot_example.txt\", delim = ' ')\n",
    "#g = graph.Graph(adjacency_mat = \"test/one_node_mat.csv\")\n",
    "g = graph.Graph(adjacency_mat = \"data/small.csv\")"
   ]
  },
  {
   "cell_type": "code",
   "execution_count": 15,
   "id": "5785f5f9",
   "metadata": {},
   "outputs": [
    {
     "data": {
      "text/plain": [
       "array([[0., 5., 0., 5.],\n",
       "       [5., 0., 1., 2.],\n",
       "       [0., 1., 0., 4.],\n",
       "       [5., 2., 4., 0.]])"
      ]
     },
     "execution_count": 15,
     "metadata": {},
     "output_type": "execute_result"
    }
   ],
   "source": [
    "g.adj_mat\n",
    "# 0 = nodes don't have connections with each other\n",
    "# Otherwise, it's weighted. Assuming an undirected graph, with a symmetrical matrix"
   ]
  },
  {
   "cell_type": "code",
   "execution_count": 22,
   "id": "40a015b6",
   "metadata": {},
   "outputs": [
    {
     "data": {
      "text/plain": [
       "4.0"
      ]
     },
     "execution_count": 22,
     "metadata": {},
     "output_type": "execute_result"
    }
   ],
   "source": [
    "num_nodes = np.sqrt(g.adj_mat.size)\n",
    "num_nodes"
   ]
  },
  {
   "cell_type": "code",
   "execution_count": 23,
   "id": "b0420689",
   "metadata": {},
   "outputs": [
    {
     "data": {
      "text/plain": [
       "4"
      ]
     },
     "execution_count": 23,
     "metadata": {},
     "output_type": "execute_result"
    }
   ],
   "source": [
    "int(num_nodes)"
   ]
  },
  {
   "cell_type": "code",
   "execution_count": 20,
   "id": "38843ed2",
   "metadata": {},
   "outputs": [
    {
     "ename": "TypeError",
     "evalue": "'numpy.float64' object cannot be interpreted as an integer",
     "output_type": "error",
     "traceback": [
      "\u001b[0;31m---------------------------------------------------------------------------\u001b[0m",
      "\u001b[0;31mTypeError\u001b[0m                                 Traceback (most recent call last)",
      "Cell \u001b[0;32mIn[20], line 3\u001b[0m\n\u001b[1;32m      1\u001b[0m \u001b[38;5;66;03m# Get the number of nodes in the adjacency matrix\u001b[39;00m\n\u001b[1;32m      2\u001b[0m num_nodes \u001b[38;5;241m=\u001b[39m np\u001b[38;5;241m.\u001b[39msqrt(g\u001b[38;5;241m.\u001b[39madj_mat\u001b[38;5;241m.\u001b[39msize)\n\u001b[0;32m----> 3\u001b[0m mst \u001b[38;5;241m=\u001b[39m \u001b[43mnp\u001b[49m\u001b[38;5;241;43m.\u001b[39;49m\u001b[43mzeros\u001b[49m\u001b[43m(\u001b[49m\u001b[43m(\u001b[49m\u001b[43mnum_nodes\u001b[49m\u001b[43m,\u001b[49m\u001b[43m \u001b[49m\u001b[43mnum_nodes\u001b[49m\u001b[43m)\u001b[49m\u001b[43m)\u001b[49m\n\u001b[1;32m      4\u001b[0m \u001b[38;5;66;03m# Keep track of visited nodes to make sure they are included in MST\u001b[39;00m\n\u001b[1;32m      5\u001b[0m nodes_in_MST \u001b[38;5;241m=\u001b[39m [\u001b[38;5;28;01mFalse\u001b[39;00m \u001b[38;5;28;01mfor\u001b[39;00m i \u001b[38;5;129;01min\u001b[39;00m \u001b[38;5;28mrange\u001b[39m(\u001b[38;5;241m0\u001b[39m, num_nodes)]\n",
      "\u001b[0;31mTypeError\u001b[0m: 'numpy.float64' object cannot be interpreted as an integer"
     ]
    }
   ],
   "source": [
    "# Get the number of nodes in the adjacency matrix\n",
    "num_nodes = int(np.sqrt(g.adj_mat.size))\n",
    "mst = np.zeros((num_nodes, num_nodes))\n",
    "# Keep track of visited nodes to make sure they are included in MST\n",
    "nodes_in_MST = [False for i in range(0, num_nodes)]\n",
    "# Create a heap that will store the edge weights\n",
    "edge_heap = []\n",
    "# Define a starting node, zero for now. Probably sub-optimal IRL and set first node to true\n",
    "u = 0\n",
    "nodes_in_MST[u] = True\n",
    "\n",
    "# For the first node, get the weights \n",
    "for v in range(0, num_nodes):\n",
    "    # If the edge weight is 0, do nothing with the node, it's not connected\n",
    "    current_edge_weight = g.adj_mat[u][v]\n",
    "    if current_edge_weight == 0:\n",
    "        continue\n",
    "    else:\n",
    "        # Store the edge weight first and the destination node\n",
    "        heapq.heappush(edge_heap, (current_edge_weight, u, v))\n",
    "\n",
    "# Now that we've got things started, if there are unvisited nodes, contine to run\n",
    "while not all(nodes_in_MST): \n",
    "    # If the heap is empty, then we're out of options\n",
    "    # This switch is triggered only if the prior condition that not all nodes have been visited is true\n",
    "    if len(edge_heap) == 0:\n",
    "        raise ValueError(\"Nodes do not all connect, MST does not exist\")\n",
    "\n",
    "    # Otherwise take the smallest value edge with heappop\n",
    "    next_edge = heapq.heappop(edge_heap)\n",
    "    # Get the position of the next node\n",
    "    current_node = next_edge[1]\n",
    "    next_node = next_edge[2] # This is the destination node\n",
    "    # Check to see if the node has already been visited\n",
    "\n",
    "    if nodes_in_MST[next_node] == False:\n",
    "        # Add the node to the MST\n",
    "        nodes_in_MST[next_node] = True\n",
    "        # Add the connection to the MST matrix \n",
    "        mst[current_node][next_node] = next_edge[0]\n",
    "        mst[next_node][current_node] = next_edge[0]\n",
    "\n",
    "        # Run it all again!\n",
    "        for w in range(0, num_nodes):\n",
    "            # if the edge weight is 0, do nothing with the node, it's not connected\n",
    "            current_edge_weight = g.adj_mat[next_node][w]\n",
    "            if current_edge_weight == 0:\n",
    "                continue\n",
    "            else:\n",
    "                heapq.heappush(edge_heap, (current_edge_weight, next_node, w))"
   ]
  },
  {
   "cell_type": "code",
   "execution_count": null,
   "id": "1e03c5fc",
   "metadata": {},
   "outputs": [],
   "source": []
  }
 ],
 "metadata": {
  "kernelspec": {
   "display_name": "Python 3 (ipykernel)",
   "language": "python",
   "name": "python3"
  },
  "language_info": {
   "codemirror_mode": {
    "name": "ipython",
    "version": 3
   },
   "file_extension": ".py",
   "mimetype": "text/x-python",
   "name": "python",
   "nbconvert_exporter": "python",
   "pygments_lexer": "ipython3",
   "version": "3.9.15"
  }
 },
 "nbformat": 4,
 "nbformat_minor": 5
}
